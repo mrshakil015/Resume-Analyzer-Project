{
 "cells": [
  {
   "attachments": {},
   "cell_type": "markdown",
   "metadata": {},
   "source": [
    "#### <b>Import Libraries"
   ]
  },
  {
   "cell_type": "code",
   "execution_count": 553,
   "metadata": {},
   "outputs": [],
   "source": [
    "import docx2txt\n",
    "import pandas as pd\n",
    "import re\n",
    "import spacy\n",
    "from spacy.lang.en.stop_words import STOP_WORDS\n",
    "import os\n",
    "import mimetypes\n",
    "from pdfminer.high_level import extract_text\n",
    "from sklearn.feature_extraction.text import CountVectorizer\n",
    "from sklearn.metrics.pairwise import cosine_similarity\n",
    "import matplotlib.pyplot as plt\n"
   ]
  },
  {
   "attachments": {},
   "cell_type": "markdown",
   "metadata": {},
   "source": [
    "#### <b>Load Spacy Model"
   ]
  },
  {
   "cell_type": "code",
   "execution_count": 554,
   "metadata": {},
   "outputs": [],
   "source": [
    "nlp = spacy.load('en_core_web_sm')"
   ]
  },
  {
   "attachments": {},
   "cell_type": "markdown",
   "metadata": {},
   "source": [
    "#### <b>Check Given file DOCX or PDF or TXT"
   ]
  },
  {
   "cell_type": "code",
   "execution_count": 555,
   "metadata": {},
   "outputs": [],
   "source": [
    "\"\"\"import os\n",
    "import mimetypes\"\"\"\n",
    "\n",
    "def check_file_type(filename):\n",
    "    mimetype, _ = mimetypes.guess_type(filename)\n",
    "\n",
    "    if mimetype == 'application/vnd.openxmlformats-officedocument.wordprocessingml.document':\n",
    "        return 'DOCX'\n",
    "    elif mimetype == 'application/pdf':\n",
    "        return 'PDF'\n",
    "    elif mimetype == 'text/plain':\n",
    "        return 'TXT'\n",
    "    else:\n",
    "        return 'Unknown'\n"
   ]
  },
  {
   "attachments": {},
   "cell_type": "markdown",
   "metadata": {},
   "source": [
    "#### <b>Extract Text From File"
   ]
  },
  {
   "cell_type": "code",
   "execution_count": 556,
   "metadata": {},
   "outputs": [],
   "source": [
    "\n",
    "def file_extract(filetype):\n",
    "    #Extract Text from docx\n",
    "    if filetype == 'DOCX':\n",
    "        def extract_text_from_docx(docx_path):\n",
    "            txt = docx2txt.process(docx_path)\n",
    "            if txt:\n",
    "                return txt.replace('\\t',' ')\n",
    "            return None\n",
    "        cv_text= extract_text_from_docx(filename)\n",
    "        cv_text = \" \".join(cv_text.strip().split())\n",
    "\n",
    "    #Extract Text from pdf\n",
    "    elif filetype == 'PDF':\n",
    "        def extract_text_from_pdf(pdf_path):\n",
    "            return extract_text(pdf_path)\n",
    "\n",
    "        if __name__== '__main__':\n",
    "            cv_text=extract_text_from_pdf(filename)\n",
    "            cv_text = \" \".join(cv_text.strip().split())\n",
    "\n",
    "    #Extract Text from txt\n",
    "    elif filetype == 'TXT':\n",
    "        f = open(filename, \"r\")\n",
    "        cv_text= f.read() \n",
    "     \n",
    "    return cv_text\n"
   ]
  },
  {
   "attachments": {},
   "cell_type": "markdown",
   "metadata": {},
   "source": [
    "#### <b>Load the resume"
   ]
  },
  {
   "cell_type": "code",
   "execution_count": 557,
   "metadata": {},
   "outputs": [
    {
     "name": "stdout",
     "output_type": "stream",
     "text": [
      "The file Md Shakil.docx is a DOCX file.\n"
     ]
    },
    {
     "data": {
      "text/plain": [
       "'Md Shakil To work in responsible position where I could use my interpersonal skills creativity and above all my learning experiences in order to develop my career as well as to contribute in any sector. ABOUT ME FATHER NAME Md Bashir MOTHER NAME Halima Begum DATE OF BIRTH 03-Jan-2001 NATIONALITY Bangladeshi RELIGION Islam GENDER Male CONTACT ME PHONE +8801793299882 +8801854619757 NID 6910806337 EMAIL shakil.eub.cse@gmail.com PERMANENT ADDRESS Vill: South Charpata P.O: Medua P.S: Bhola Sodar Dist- Bhola PRESENT ADDRESS Vill: Neymartack P.O: Rajfulbaria P.S: Savar Dist- Dhaka HOBBIES Cricket Coding Traveling Graphic Designing WORK EXPERIENCE COMPUTER INSTRUCTOR Institute : Rainbow Computer Point. Duration : November 2019 to Present EDUCATION QUALIFICATION BACHELOR OF SCIENCE (BSC) University : European University of Bangladesh. Program : Computer Science & Engineering. Semester :10thSemester Running. Current CGPA : 3.97 (out of 4) HIGHER SECONDARY CERTIFICATE Institute : Obaidul Hoque Mohabiddaloy. Group : Science GPA : 3.00 (out of 5) PASSING YEAR : 2019 SECONDARY SCHOOL CERTIFICATE Institute :Jangulia Secondary School & College. Group : Science GPA :4.23 (out of 5) PASSING YEAR : 2017 LANGUAGE SKILS PYTHON C Java HTML/CSS/Bootstrap Machine Learning / NLP GitHub PROFESSIONAL SKILS Illustrator Photoshop Microsoft Word Microsoft Excel Microsoft Power point'"
      ]
     },
     "execution_count": 557,
     "metadata": {},
     "output_type": "execute_result"
    }
   ],
   "source": [
    "filename=input(\"Enter the resume file path: \")\n",
    "\n",
    "resumefiletype = check_file_type(filename)\n",
    "print(f'The file {filename} is a {resumefiletype} file.')\n",
    "resume_text= file_extract(resumefiletype)\n",
    "resume_text\n"
   ]
  },
  {
   "attachments": {},
   "cell_type": "markdown",
   "metadata": {},
   "source": [
    "#### <b>Load Job Requirements"
   ]
  },
  {
   "cell_type": "code",
   "execution_count": 558,
   "metadata": {},
   "outputs": [
    {
     "name": "stdout",
     "output_type": "stream",
     "text": [
      "The file skill.txt is a TXT file.\n"
     ]
    },
    {
     "data": {
      "text/plain": [
       "' python,Statistics,Data Visualization,Linear Algebra,NeuralNetworks,DeepLearning,Sci-kit Learn,Graphic Designing ,Keras,OpenCV,SQLite, Html, CSS, GUIusing Pyqt module, Git, nlp, GitHub, C, C++, Illustrator,photoshop,machine learning,Microsoft Word, Microsoft Excel, Microsoft Power Point'"
      ]
     },
     "execution_count": 558,
     "metadata": {},
     "output_type": "execute_result"
    }
   ],
   "source": [
    "filename=input(\"Enter the file path: \")\n",
    "requirementfiletype = check_file_type(filename)\n",
    "print(f'The file {filename} is a {requirementfiletype} file.')\n",
    "requirement_text= file_extract(requirementfiletype)\n",
    "requirement_text\n"
   ]
  },
  {
   "attachments": {},
   "cell_type": "markdown",
   "metadata": {},
   "source": [
    "#### <b>Remove Puncutation"
   ]
  },
  {
   "cell_type": "code",
   "execution_count": 559,
   "metadata": {},
   "outputs": [
    {
     "data": {
      "text/plain": [
       "'doc = nlp(resume_text)\\n\\ntokens_without_punct = []\\nfor token in doc:\\n    if not token.is_punct:\\n        tokens_without_punct.append(token.text)\\n\\ncv_text = \" \".join(tokens_without_punct)\\nprint(cv_text)'"
      ]
     },
     "execution_count": 559,
     "metadata": {},
     "output_type": "execute_result"
    }
   ],
   "source": [
    "\"\"\"doc = nlp(resume_text)\n",
    "\n",
    "tokens_without_punct = []\n",
    "for token in doc:\n",
    "    if not token.is_punct:\n",
    "        tokens_without_punct.append(token.text)\n",
    "\n",
    "cv_text = \" \".join(tokens_without_punct)\n",
    "print(cv_text)\"\"\""
   ]
  },
  {
   "attachments": {},
   "cell_type": "markdown",
   "metadata": {},
   "source": [
    "#### <b>Extract Name"
   ]
  },
  {
   "cell_type": "code",
   "execution_count": 560,
   "metadata": {},
   "outputs": [
    {
     "name": "stdout",
     "output_type": "stream",
     "text": [
      "Extract Name:\n",
      "Md Shakil\n",
      "Md Bashir\n",
      "Halima Begum\n",
      "Medua P.S\n",
      "Rajfulbaria P.S\n"
     ]
    }
   ],
   "source": [
    "print(\"Extract Name:\")\n",
    "cv_text= resume_text\n",
    "doc= nlp(cv_text)\n",
    "for word in doc.ents:\n",
    "    if word.label_== 'PERSON' and len(word) == 2:\n",
    "        print(word.text)\n"
   ]
  },
  {
   "cell_type": "code",
   "execution_count": 561,
   "metadata": {},
   "outputs": [
    {
     "name": "stdout",
     "output_type": "stream",
     "text": [
      "Extracted Name: Md Shakil\n"
     ]
    }
   ],
   "source": [
    "frequency_dict = {}\n",
    "\n",
    "cv_text = resume_text\n",
    "doc = nlp(cv_text)\n",
    "\n",
    "most_frequent_word = ''\n",
    "highest_frequency = 0\n",
    "\n",
    "for word in doc.ents:\n",
    "    if word.label_ == 'PERSON' and len(word) == 2:\n",
    "        if word.text in frequency_dict:\n",
    "            frequency_dict[word.text] += 1\n",
    "        else:\n",
    "            frequency_dict[word.text] = 1\n",
    "\n",
    "        if frequency_dict[word.text] > highest_frequency:\n",
    "            most_frequent_word = word.text\n",
    "            highest_frequency = frequency_dict[word.text]\n",
    "\n",
    "print(\"Extracted Name:\", most_frequent_word)"
   ]
  },
  {
   "attachments": {},
   "cell_type": "markdown",
   "metadata": {},
   "source": [
    "#### <b>Extract Contact info"
   ]
  },
  {
   "cell_type": "code",
   "execution_count": 562,
   "metadata": {},
   "outputs": [
    {
     "name": "stdout",
     "output_type": "stream",
     "text": [
      "\n",
      "Extract Contact Info:\n",
      "+8801793299882\n",
      "+8801854619757\n",
      "6910806337\n",
      "shakil.eub.cse@gmail.com\n"
     ]
    }
   ],
   "source": [
    "print(\"\\nExtract Contact Info:\")\n",
    "contactpattern = re.compile(r'[a-zA-Z0-9-\\.]+@[a-zA-Z-\\.]*\\.(com|edu|net|co|org)|\\d{11,13}|\\d{4,5}-\\d{6,7}|\\d{4,5}\\s\\d{6,7}|\\+\\d{2,3}\\s\\d{4,5}-\\d{6,7}|\\+\\d{13}|\\+\\d{7}\\s\\d{6,7}|\\b\\d{3}[-.]?\\d{3}[-.]?\\d{4}\\b') \n",
    "matchescontact = contactpattern.finditer(cv_text)\n",
    "for match in matchescontact:\n",
    "    print(match.group())"
   ]
  },
  {
   "cell_type": "code",
   "execution_count": 563,
   "metadata": {},
   "outputs": [
    {
     "name": "stdout",
     "output_type": "stream",
     "text": [
      "\n",
      "Extract Contact Info:\n",
      "Phone numbers found: ['+8801793299882', '+8801854619757']\n",
      "NID numbers found: ['6910806337']\n",
      "Email Address found: ['shakil.eub.cse@gmail.com']\n"
     ]
    }
   ],
   "source": [
    "\"\"\"import re\"\"\"\n",
    "\n",
    "nid=[]\n",
    "cell=[]\n",
    "emails=[]\n",
    "print(\"\\nExtract Contact Info:\")\n",
    "contactpattern_str = r'[a-zA-Z0-9-\\.]+@[a-zA-Z-\\.]*\\.(com|edu|net|co|org)|\\d{11,13}|\\d{4,5}-\\d{6,7}|\\d{4,5}\\s\\d{6,7}|\\+\\d{2,3}\\s\\d{4,5}-\\d{6,7}|\\+\\d{13}|\\+\\d{7}\\s\\d{6,7}|\\b\\d{3}[-.]?\\d{3}[-.]?\\d{4}\\b'\n",
    "num_patterns = contactpattern_str.count('|') + 1\n",
    "contactpattern = re.compile(contactpattern_str)\n",
    "matchescontact = contactpattern.finditer(cv_text)\n",
    "for match in matchescontact:\n",
    "    if len(match.group()) == 10:\n",
    "        nid.append(match.group())\n",
    "    elif '@' in match.group():\n",
    "        emails.append(match.group())\n",
    "    else:\n",
    "        cell.append(match.group())\n",
    "print(\"Phone numbers found:\",cell)\n",
    "print(\"NID numbers found:\",nid)\n",
    "print(\"Email Address found:\",emails)"
   ]
  },
  {
   "attachments": {},
   "cell_type": "markdown",
   "metadata": {},
   "source": [
    "#### <b>Extract Result"
   ]
  },
  {
   "cell_type": "code",
   "execution_count": 564,
   "metadata": {},
   "outputs": [
    {
     "name": "stdout",
     "output_type": "stream",
     "text": [
      "\n",
      "Extract Result:\n",
      "BACHELOR OF SCIENCE\n",
      "CGPA : 3.97\n",
      "HIGHER SECONDARY CERTIFICATE\n",
      "GPA : 3.00\n",
      "SECONDARY SCHOOL CERTIFICATE\n",
      "GPA :4.23\n"
     ]
    }
   ],
   "source": [
    "print(\"\\nExtract Result:\")\n",
    "extracted_results = []\n",
    "resultp = re.compile(r'(BACHELOR|MASTER|DOCTOR) OF (ARTS|SCIENCE|BUSINESS ADMINISTRATION|LAWS|EDUCATION|MEDICINE AND SURGERY|PHILOSOPHY)|(BACHELOR|MASTER|DOCTOR) OF (ARTS|SCIENCE|BUSINESS ADMINISTRATION|LAWS|EDUCATION|MEDICINE AND SURGERY|PHILOSOPHY) \\((BA|BSC|BBA|LLB|BED|MBBS|MA|MSC|MBA|LLM|MED|PHD)\\)|(SECONDARY SCHOOL|HIGHER SECONDARY|JUNIOR SCHOOL|PRIMARY SCHOOL|PRIMARY EDUCATION COMPLETION|MADRASAH EDUCATION)\\s+(CERTIFICATE|COMPLETION) \\((S.S.C|H.S.C|J.S.C|P.S.C|P.E.C|M.E.C)|(S S C|H S C|J S C|P S C|P E C|M E C)\\)|(Secondary School|Higher Secondary|Junior School|Primary School|Primary Education Completion|Madrasah Education)\\S+(Certificate|Completion)|(SECONDARY SCHOOL|HIGHER SECONDARY|JUNIOR SCHOOL|PRIMARY SCHOOL|PRIMARY EDUCATION COMPLETION|MADRASAH EDUCATION)\\s+(CERTIFICATE|COMPLETION)|(Bachelor|Master|Doctor)|(Bachelor|Master|Doctor) of (Arts|Science|Business Administration|Laws|Education|Medicine and Surgery|Philosophy) \\((BA|BSc|BBA|LLB|BEd|MBBS|MA|MSc|MBA|LLM|MEd|PhD)\\)|(Secondary School|Higher Secondary|Junior School|Primary School|Primary Education Completion|Madrasah Education) (Certificate|Completion) \\((S.S.C|H.S.C|J.S.C|P.S.C|P.E.C|M.E.C)\\)|(GPA)\\s+\\d{1,2}.\\d{1,2}|(GPA):\\s+\\d{1,2}.\\d{1,2}|(GPA)\\s+:\\d{1,2}.\\d{1,2}|(GPA)\\s+:\\s+\\d{1,2}.\\d{1,2}|(GPA):\\d{1,2}.\\d{1,2}|(GPA)\\d{1,2}.\\d{1,2}|(G.P.A)\\s+\\d{1,2}.\\d{1,2}|(G.P.A):\\s+\\d{1,2}.\\d{1,2}|(G.P.A)\\s+:\\d{1,2}.\\d{1,2}|(G.P.A)\\s+:\\s+\\d{1,2}.\\d{1,2}|(G.P.A):\\d{1,2}.\\d{1,2}|(G.P.A)\\d{1,2}.\\d{1,2}|(gpa)\\s+\\d{1,2}.\\d{1,2}|(gpa):\\s+\\d{1,2}.\\d{1,2}|(gpa)\\s+:\\d{1,2}.\\d{1,2}|(gpa)\\s+:\\s+\\d{1,2}.\\d{1,2}|(gpa):\\d{1,2}.\\d{1,2}|(gpa)\\d{1,2}.\\d{1,2}|(g.p.a)\\s+\\d{1,2}.\\d{1,2}|(g.p.a):\\s+\\d{1,2}.\\d{1,2}|(g.p.a)\\s+:\\d{1,2}.\\d{1,2}|(g.p.a)\\s+:\\s+\\d{1,2}.\\d{1,2}|(g.p.a):\\d{1,2}.\\d{1,2}|(g.p.a)\\d{1,2}.\\d{1,2}|(CGPA)\\s+\\d{1,2}.\\d{1,2}|(CGPA):\\s+\\d{1,2}.\\d{1,2}|(CGPA)\\s+:\\d{1,2}.\\d{1,2}|(CGPA)\\s+:\\s+\\d{1,2}.\\d{1,2}|(CGPA):\\d{1,2}.\\d{1,2}|(CGPA)\\d{1,2}.\\d{1,2}|(C.G.P.A)\\s+\\d{1,2}.\\d{1,2}|(C.G.P.A):\\s+\\d{1,2}.\\d{1,2}|(C.G.P.A)\\s+:\\d{1,2}.\\d{1,2}|(C.G.P.A)\\s+:\\s+\\d{1,2}.\\d{1,2}|(C.G.P.A):\\d{1,2}.\\d{1,2}|(C.G.P.A)\\d{1,2}.\\d{1,2}|(cgpa)\\s+\\d{1,2}.\\d{1,2}|(cgpa):\\s+\\d{1,2}.\\d{1,2}|(cgpa)\\s+:\\d{1,2}.\\d{1,2}|(cgpa)\\s+:\\s+\\d{1,2}.\\d{1,2}|(cgpa):\\d{1,2}.\\d{1,2}|(cgpa)\\d{1,2}.\\d{1,2}|(c.g.p.a)\\s+\\d{1,2}.\\d{1,2}|(c.g.p.a):\\s+\\d{1,2}.\\d{1,2}|(c.g.p.a)\\s+:\\d{1,2}.\\d{1,2}|(c.g.p.a)\\s+:\\s+\\d{1,2}.\\d{1,2}|(c.g.p.a):\\d{1,2}.\\d{1,2}|(c.g.p.a)\\d{1,2}.\\d{1,2}|(RESULT)\\s+\\d{1,2}.\\d{1,2}|(RESULT):\\s+\\d{1,2}.\\d{1,2}|(RESULT)\\s+:\\d{1,2}.\\d{1,2}|(RESULT)\\s+:\\s+\\d{1,2}.\\d{1,2}|(RESULT):\\d{1,2}.\\d{1,2}|(RESULT)\\d{1,2}.\\d{1,2}|(result)\\s+\\d{1,2}.\\d{1,2}|(result):\\s+\\d{1,2}.\\d{1,2}|(result)\\s+:\\d{1,2}.\\d{1,2}|(result)\\s+:\\s+\\d{1,2}.\\d{1,2}|(result):\\d{1,2}.\\d{1,2}|(result)\\d{1,2}.\\d{1,2}|(Result)\\s+\\d{1,2}.\\d{1,2}|(Result):\\s+\\d{1,2}.\\d{1,2}|(Result)\\s+:\\d{1,2}.\\d{1,2}|(Result)\\s+:\\s+\\d{1,2}.\\d{1,2}|(Result):\\d{1,2}.\\d{1,2}|(Result)\\d{1,2}.\\d{1,2}') #Extract result\n",
    "matchesresult = resultp.finditer(cv_text)\n",
    "for match in matchesresult:\n",
    "    extracted_results.append(match.group(0))\n",
    "    print(match.group(0))\n"
   ]
  },
  {
   "attachments": {},
   "cell_type": "markdown",
   "metadata": {},
   "source": [
    "#### <b>Extract the skills"
   ]
  },
  {
   "cell_type": "code",
   "execution_count": 565,
   "metadata": {},
   "outputs": [
    {
     "name": "stdout",
     "output_type": "stream",
     "text": [
      "['python', 'statistics', 'data visualization', 'linear algebra', 'neuralnetworks', 'deeplearning', 'sci-kit learn', 'graphic designing', 'keras', 'opencv', 'sqlite', 'html', 'css', 'guiusing pyqt module', 'git', 'nlp', 'github', 'c', 'c++', 'illustrator', 'photoshop', 'machine learning', 'microsoft word', 'microsoft excel', 'microsoft power point']\n"
     ]
    }
   ],
   "source": [
    "requirement_text=requirement_text.lower()\n",
    "SKILLS= [elem.strip() for elem in requirement_text.split(\",\")]\n",
    "print(SKILLS)"
   ]
  },
  {
   "cell_type": "code",
   "execution_count": 566,
   "metadata": {},
   "outputs": [
    {
     "name": "stdout",
     "output_type": "stream",
     "text": [
      "Skills mentioned in the resume:\n",
      "- Github\n",
      "- Machine Learning\n",
      "- Python\n",
      "- Illustrator\n",
      "- Graphic Designing\n",
      "- Microsoft Power Point\n",
      "- Nlp\n",
      "- C\n",
      "- Microsoft Word\n",
      "- Microsoft Excel\n",
      "- Html\n",
      "- Photoshop\n",
      "- Css\n"
     ]
    }
   ],
   "source": [
    "import spacy\n",
    "\n",
    "class SkillsExtractor:\n",
    "    def __init__(self, skills_list=None):\n",
    "        self.__nlp = spacy.load(\"en_core_web_sm\")\n",
    "        self.__skills_list = skills_list\n",
    "\n",
    "    def extract_skills(self, text):\n",
    "        skills = []\n",
    "        nlp_text = self.__nlp(text)\n",
    "        for token in nlp_text:\n",
    "            if token.text.lower() in self.__skills_list:\n",
    "                skills.append(token.text.title())\n",
    "\n",
    "        # Handle bigrams and trigrams\n",
    "        for i in range(len(nlp_text) - 1):\n",
    "            bigram = nlp_text[i:i+2]\n",
    "            if \" \".join([token.text.lower() for token in bigram]) in self.__skills_list:\n",
    "                skills.append(\" \".join([token.text.title() for token in bigram]))\n",
    "\n",
    "        for i in range(len(nlp_text) - 2):\n",
    "            trigram = nlp_text[i:i+3]\n",
    "            if \" \".join([token.text.lower() for token in trigram]) in self.__skills_list:\n",
    "                skills.append(\" \".join([token.text.title() for token in trigram]))\n",
    "\n",
    "        return list(set(skills))\n",
    "\n",
    "def extract_resume_skills(resume_text, skills_list):\n",
    "    extractor = SkillsExtractor(skills_list)\n",
    "    return extractor.extract_skills(resume_text)\n",
    "\n",
    "resume_text = cv_text\n",
    "skills_list = SKILLS\n",
    "resume_skills = extract_resume_skills(resume_text, skills_list)\n",
    "\n",
    "print(\"Skills mentioned in the resume:\")\n",
    "for skill in resume_skills:\n",
    "    print(\"- \" + skill)\n"
   ]
  },
  {
   "attachments": {},
   "cell_type": "markdown",
   "metadata": {},
   "source": [
    "#### <b>Skills similarity in percent"
   ]
  },
  {
   "cell_type": "code",
   "execution_count": 567,
   "metadata": {},
   "outputs": [
    {
     "name": "stdout",
     "output_type": "stream",
     "text": [
      "Skills Percent similarity: 76.51%\n"
     ]
    },
    {
     "data": {
      "image/png": "[encoded data removed]",
      "text/plain": [
       "<Figure size 640x480 with 1 Axes>"
      ]
     },
     "metadata": {},
     "output_type": "display_data"
    }
   ],
   "source": [
    "requirementskills = ', '.join(SKILLS).lower()\n",
    "resumeskills = ', '.join(resume_skills).lower()\n",
    "\n",
    "vectorizer = CountVectorizer().fit_transform([requirementskills, resumeskills])\n",
    "vectorized_strings = vectorizer.toarray()\n",
    "\n",
    "cosine_sim = cosine_similarity(vectorized_strings)\n",
    "\n",
    "percent_sim = cosine_sim[0][1] * 100\n",
    "\n",
    "print(\"Skills Percent similarity: {:.2f}%\".format(percent_sim))\n",
    "#Pi-Chart\n",
    "percent_diff = 100 - percent_sim\n",
    "data = [percent_sim, percent_diff]\n",
    "\n",
    "labels = [\"Similar\", \"Different\"]\n",
    "colors = [\"green\", \"red\"]\n",
    "\n",
    "plt.pie(data, labels=labels, colors=colors, autopct=\"%1.1f%%\")\n",
    "plt.title(\"Similarity Between Two Lists\")\n",
    "plt.show()\n"
   ]
  },
  {
   "cell_type": "code",
   "execution_count": null,
   "metadata": {},
   "outputs": [],
   "source": []
  }
 ],
 "metadata": {
  "kernelspec": {
   "display_name": "Python 3",
   "language": "python",
   "name": "python3"
  },
  "language_info": {
   "codemirror_mode": {
    "name": "ipython",
    "version": 3
   },
   "file_extension": ".py",
   "mimetype": "text/x-python",
   "name": "python",
   "nbconvert_exporter": "python",
   "pygments_lexer": "ipython3",
   "version": "3.10.10"
  },
  "orig_nbformat": 4,
  "vscode": {
   "interpreter": {
    "hash": "0e55b62cd1d118df7886774d503c9d1898fc5c83b8056489f09ea86322e9ea04"
   }
  }
 },
 "nbformat": 4,
 "nbformat_minor": 2
}
